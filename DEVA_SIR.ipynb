{
  "nbformat": 4,
  "nbformat_minor": 0,
  "metadata": {
    "colab": {
      "provenance": [],
      "authorship_tag": "ABX9TyPak+KRcKChiAqZ7UwxKqhe",
      "include_colab_link": true
    },
    "kernelspec": {
      "name": "python3",
      "display_name": "Python 3"
    },
    "language_info": {
      "name": "python"
    }
  },
  "cells": [
    {
      "cell_type": "markdown",
      "metadata": {
        "id": "view-in-github",
        "colab_type": "text"
      },
      "source": [
        "<a href=\"https://colab.research.google.com/github/bharathyadav524/AD-HOC-Insights-Consumer-Goods-/blob/main/DEVA_SIR.ipynb\" target=\"_parent\"><img src=\"https://colab.research.google.com/assets/colab-badge.svg\" alt=\"Open In Colab\"/></a>"
      ]
    },
    {
      "cell_type": "markdown",
      "source": [
        "DAY1"
      ],
      "metadata": {
        "id": "JAi_ryVM7zns"
      }
    },
    {
      "cell_type": "markdown",
      "source": [
        "# What is Data Analysis?\n",
        "\n",
        "Data Analysis means studying data to find useful information.\n",
        "\n",
        "# Why Data Analysis?\n",
        "\n",
        "To make better decisions\n",
        "\n",
        "To find patterns and trends\n",
        "\n",
        "To solve problems\n",
        "\n",
        "To improve business performance\n",
        "\n",
        "To understand customers\n",
        "\n",
        "To plan for the future"
      ],
      "metadata": {
        "id": "XmA0iGaT8D0p"
      }
    },
    {
      "cell_type": "markdown",
      "source": [
        "🤖 AI (Artificial Intelligence)\n",
        "\n",
        "AI means making machines think and act like humans.\n",
        "\n",
        "🤖 ML (Machine Learning)\n",
        "\n",
        "ML is a part of AI where machines learn from data and improve on their own.\n",
        "\n",
        "🤖 DL (Deep Learning)\n",
        "\n",
        "DL is a type of ML that uses brain-like structures (neural networks) to learn from large amounts of data."
      ],
      "metadata": {
        "id": "jaSEN_AZ8HQF"
      }
    },
    {
      "cell_type": "markdown",
      "source": [
        "#🛠️ What is Feature Engineering?\n",
        "\n",
        "Feature Engineering means creating better input data (features) to help a machine learning model learn more accurately.\n",
        "\n",
        "Simple Example:\n",
        "\n",
        "If you're predicting house prices:\n",
        "\n",
        "You have features like size, location, and number of rooms.\n",
        "\n",
        "You can create a new feature like \"price per square foot\" — that’s feature engineering!\n",
        "\n",
        "In short:\n",
        "\n",
        "Better features = Better model performance ✅"
      ],
      "metadata": {
        "id": "ccPWqhPX8Wlh"
      }
    },
    {
      "cell_type": "markdown",
      "source": [
        "Data Analyst = What happened? Why?\n",
        "\n",
        "Data Scientist = What will happen? How can we predict it?"
      ],
      "metadata": {
        "id": "BsEn4mSZ8swj"
      }
    },
    {
      "cell_type": "markdown",
      "source": [
        "#WHAT IS NUMPY ?\n",
        "\n",
        "NUMPY IS A PYTHON LIBRARY USED FOR WORKING WITH ARRAYS\n",
        "\n",
        "NUMPY WAS CREATED IN 2005 BY TRAVIS OLIPHANT\n",
        "\n",
        "NUMPY STANDS FOR NUMERICAL PYTHON\n",
        "\n",
        "\n",
        "#WHY NUMPY ?\n",
        "\n",
        "NUMPY PROVIDES ARRAY OBJECTS TO WORK WITH COMPUTATION PROBLEMS AND IT IS 50X FASTER THAN LIST"
      ],
      "metadata": {
        "id": "6LS0CzBi-VKt"
      }
    },
    {
      "cell_type": "markdown",
      "source": [],
      "metadata": {
        "id": "i-d8ueZPoOPK"
      }
    },
    {
      "cell_type": "code",
      "source": [
        "import numpy as np\n",
        "arr = np.array([1,2,3,4])\n",
        "print(arr)\n",
        "print(type(arr))"
      ],
      "metadata": {
        "colab": {
          "base_uri": "https://localhost:8080/"
        },
        "id": "ysyicCCgojtb",
        "outputId": "b9410e3e-bebc-4dc8-e1fa-17ad901d4588"
      },
      "execution_count": null,
      "outputs": [
        {
          "output_type": "stream",
          "name": "stdout",
          "text": [
            "[1 2 3 4]\n",
            "<class 'numpy.ndarray'>\n"
          ]
        }
      ]
    },
    {
      "cell_type": "code",
      "source": [
        "import numpy as np\n",
        "arr = np.array([1,2,3,4])\n",
        "print(type(arr))"
      ],
      "metadata": {
        "colab": {
          "base_uri": "https://localhost:8080/"
        },
        "id": "Ln0XK5onwYlR",
        "outputId": "757fafd9-f753-4a87-d5b0-bb0d8b9934b3"
      },
      "execution_count": null,
      "outputs": [
        {
          "output_type": "stream",
          "name": "stdout",
          "text": [
            "<class 'numpy.ndarray'>\n"
          ]
        }
      ]
    },
    {
      "cell_type": "code",
      "source": [
        "import array\n",
        "\n",
        "arr = array.array('i',[1])\n",
        "print(arr)\n",
        "print(type(arr))"
      ],
      "metadata": {
        "colab": {
          "base_uri": "https://localhost:8080/"
        },
        "id": "0AACpDfGpAfj",
        "outputId": "4185ec98-9cd1-4e00-8af2-d3bf97fe4e44"
      },
      "execution_count": null,
      "outputs": [
        {
          "output_type": "stream",
          "name": "stdout",
          "text": [
            "array('i', [1])\n"
          ]
        }
      ]
    },
    {
      "cell_type": "code",
      "source": [
        "arr_list = np.array([1,2,4,5])\n",
        "arr_tuple = np.array((10,20,40,50))\n",
        "arr_str = np.array(\"Bharath Kumar\")\n",
        "arr_set = np.array({10,20,40,50})\n",
        "arr_dict = np.array({\"a\":10,\"b\":20})"
      ],
      "metadata": {
        "id": "w8WodQq_qQKA"
      },
      "execution_count": null,
      "outputs": []
    },
    {
      "cell_type": "markdown",
      "source": [
        "dtype --> IT SHOWS WHAT KIND OF DATA WE ARE STORED"
      ],
      "metadata": {
        "id": "3p37XCmPrKTd"
      }
    },
    {
      "cell_type": "code",
      "source": [
        "print(\"list : \",arr_list.dtype) #integer for int64\n",
        "print(\"tuple : \",arr_tuple.dtype)\n",
        "print(\"string : \",arr_str.dtype) #str for <u13\n",
        "print(\"set : \",arr_set.dtype) #set for object\n",
        "print(\"dict : \",arr_dict.dtype)#dictionary for object"
      ],
      "metadata": {
        "colab": {
          "base_uri": "https://localhost:8080/"
        },
        "id": "tGzU1iTJrU1Z",
        "outputId": "41556de9-9c51-45d7-8da2-0e1fdee9e28b"
      },
      "execution_count": null,
      "outputs": [
        {
          "output_type": "stream",
          "name": "stdout",
          "text": [
            "list :  int64\n",
            "tuple :  int64\n",
            "string :  <U13\n",
            "set :  object\n",
            "dict :  object\n"
          ]
        }
      ]
    },
    {
      "cell_type": "markdown",
      "source": [
        "ndim --> it Shows Whats the dimension of Our Array"
      ],
      "metadata": {
        "id": "MNTmo1LUsbDu"
      }
    },
    {
      "cell_type": "code",
      "source": [
        "print(f\"array List Values : {arr_list.ndim}\")\n",
        "print(f\"arary tuple Values: {arr_tuple.ndim}\")\n",
        "print(f\"array string Values : {arr_str.ndim}\")\n",
        "print(f\"array Set Values : {arr_set.ndim}\")\n",
        "print(f\"array dict Values : {arr_dict.ndim}\")"
      ],
      "metadata": {
        "colab": {
          "base_uri": "https://localhost:8080/"
        },
        "id": "fvuOCh5nrkoV",
        "outputId": "9eb218a6-10e5-421f-f3bb-f444fea70346"
      },
      "execution_count": null,
      "outputs": [
        {
          "output_type": "stream",
          "name": "stdout",
          "text": [
            "array List Values : 1\n",
            "arary tuple Values: 1\n",
            "array string Values : 0\n",
            "array Set Values : 0\n",
            "array dict Values : 0\n"
          ]
        }
      ]
    },
    {
      "cell_type": "markdown",
      "source": [
        "HIERARCHY\n",
        "\n",
        "bool<int<float<complex<str<object"
      ],
      "metadata": {
        "id": "2_Qj6F31tZSX"
      }
    },
    {
      "cell_type": "markdown",
      "source": [
        "1D --> VECTOR"
      ],
      "metadata": {
        "id": "K8OWaxvTw4-p"
      }
    },
    {
      "cell_type": "code",
      "source": [
        "import numpy as np\n",
        "arr_bool = np.array([True,False])\n",
        "print(arr_bool)\n",
        "print(arr_bool.dtype)"
      ],
      "metadata": {
        "colab": {
          "base_uri": "https://localhost:8080/"
        },
        "id": "mkfqaS2KtY70",
        "outputId": "2fb2dabf-ee46-4d39-a6de-4a00f9bfd5c1"
      },
      "execution_count": null,
      "outputs": [
        {
          "output_type": "stream",
          "name": "stdout",
          "text": [
            "[ True False]\n",
            "bool\n"
          ]
        }
      ]
    },
    {
      "cell_type": "code",
      "source": [
        "arr_int = np.array([True,False,10])\n",
        "print(arr_int)\n",
        "print(arr_int.dtype)"
      ],
      "metadata": {
        "colab": {
          "base_uri": "https://localhost:8080/"
        },
        "id": "a11xUYVwt9yL",
        "outputId": "f8f7f8ea-0e05-4554-8627-af3c25553ee7"
      },
      "execution_count": null,
      "outputs": [
        {
          "output_type": "stream",
          "name": "stdout",
          "text": [
            "[ 1  0 10]\n",
            "int64\n"
          ]
        }
      ]
    },
    {
      "cell_type": "code",
      "source": [
        "arr_float = np.array([True,False,10,2.2])\n",
        "print(arr_float)\n",
        "print(arr_float.dtype)"
      ],
      "metadata": {
        "colab": {
          "base_uri": "https://localhost:8080/"
        },
        "id": "0RrueLfWuGHU",
        "outputId": "31bd00a2-26b1-4a56-ad25-a8db7a617438"
      },
      "execution_count": null,
      "outputs": [
        {
          "output_type": "stream",
          "name": "stdout",
          "text": [
            "[ 1.   0.  10.   2.2]\n",
            "float64\n"
          ]
        }
      ]
    },
    {
      "cell_type": "code",
      "source": [
        "arr_complex = np.array([True,False,10,4.3,3+2j])\n",
        "print(arr_complex)\n",
        "print(arr_complex.dtype)"
      ],
      "metadata": {
        "colab": {
          "base_uri": "https://localhost:8080/"
        },
        "id": "Dxw1jFx_uU20",
        "outputId": "e804748e-e130-4835-b000-3054e7c7e217"
      },
      "execution_count": null,
      "outputs": [
        {
          "output_type": "stream",
          "name": "stdout",
          "text": [
            "[ 1. +0.j  0. +0.j 10. +0.j  4.3+0.j  3. +2.j]\n",
            "complex128\n"
          ]
        }
      ]
    },
    {
      "cell_type": "code",
      "source": [
        "arr_str = np.array([True,False,10,2.2,3+3j,\"Hello\"])\n",
        "print(arr_str)\n",
        "print(arr_str.dtype)"
      ],
      "metadata": {
        "colab": {
          "base_uri": "https://localhost:8080/"
        },
        "id": "5L4-9CDYugBF",
        "outputId": "5b448bd9-f417-4d3f-d381-78dfe6f8a861"
      },
      "execution_count": null,
      "outputs": [
        {
          "output_type": "stream",
          "name": "stdout",
          "text": [
            "['True' 'False' '10' '2.2' '(3+3j)' 'Hello']\n",
            "<U64\n"
          ]
        }
      ]
    },
    {
      "cell_type": "code",
      "source": [
        "arr_str = np.array([True,False,10,2.2,3+3j,\"Hello\"])\n",
        "print(arr_str.shape) #for single or Scalar array shape will give you no of Elements Present in collection we passed"
      ],
      "metadata": {
        "colab": {
          "base_uri": "https://localhost:8080/"
        },
        "id": "2bE4Gf0pxlvQ",
        "outputId": "31dc2a1a-2967-4863-be4f-0a0651b62912"
      },
      "execution_count": null,
      "outputs": [
        {
          "output_type": "stream",
          "name": "stdout",
          "text": [
            "(6,)\n"
          ]
        }
      ]
    },
    {
      "cell_type": "markdown",
      "source": [
        "NEXT IT WILL CONSIDER AS OBJECT FOR COLLECTIONS"
      ],
      "metadata": {
        "id": "uBHSzW-avS7C"
      }
    },
    {
      "cell_type": "markdown",
      "source": [
        "2D ARRAY  -->Matrix"
      ],
      "metadata": {
        "id": "RCuC-zMwwGZ6"
      }
    },
    {
      "cell_type": "code",
      "source": [
        "arr_2d = np.array([[10,20,30],[40,50,60]])\n",
        "print(arr_2d)\n",
        "print(arr_2d.dtype)"
      ],
      "metadata": {
        "colab": {
          "base_uri": "https://localhost:8080/"
        },
        "id": "J5am8O39uxho",
        "outputId": "7f00969f-8662-41fa-f7d3-1fe34cb3789b"
      },
      "execution_count": null,
      "outputs": [
        {
          "output_type": "stream",
          "name": "stdout",
          "text": [
            "[[10 20 30]\n",
            " [40 50 60]]\n",
            "int64\n"
          ]
        }
      ]
    },
    {
      "cell_type": "code",
      "source": [
        "arr_2d_str = np.array([[\"2d\",\"Array\"],[\"Creation\",\"Now\"]])\n",
        "print(arr_2d_str)"
      ],
      "metadata": {
        "colab": {
          "base_uri": "https://localhost:8080/"
        },
        "id": "vWTAmQgvwb7C",
        "outputId": "3702bd50-ab46-49de-e531-fa0db621ebd5"
      },
      "execution_count": null,
      "outputs": [
        {
          "output_type": "stream",
          "name": "stdout",
          "text": [
            "[['2d' 'Array']\n",
            " ['Creation' 'Now']]\n"
          ]
        }
      ]
    },
    {
      "cell_type": "code",
      "source": [
        "arr_2d = np.array([[10,20,30],[40,50,60]])\n",
        "print(arr_2d.ndim)"
      ],
      "metadata": {
        "colab": {
          "base_uri": "https://localhost:8080/"
        },
        "id": "2qZLRupixPYZ",
        "outputId": "61c022e9-d24d-4517-f792-ce2bbd2cea3c"
      },
      "execution_count": null,
      "outputs": [
        {
          "output_type": "stream",
          "name": "stdout",
          "text": [
            "2\n"
          ]
        }
      ]
    },
    {
      "cell_type": "code",
      "source": [
        "arr_2d = np.array([[10,20,30],[40,50,60]])\n",
        "print(arr_2d.shape)"
      ],
      "metadata": {
        "colab": {
          "base_uri": "https://localhost:8080/"
        },
        "id": "aX3wBcGVxcv0",
        "outputId": "c3a9a766-181c-403b-ce14-97cda79dd881"
      },
      "execution_count": null,
      "outputs": [
        {
          "output_type": "stream",
          "name": "stdout",
          "text": [
            "(2, 3)\n"
          ]
        }
      ]
    },
    {
      "cell_type": "markdown",
      "source": [
        "3D --> TENSOR or DEPTH"
      ],
      "metadata": {
        "id": "cD_T3ugpwpOk"
      }
    },
    {
      "cell_type": "code",
      "source": [
        "lst = [[[1,2,3],[4,5,6]],[[1,2,3],[4,5,6]]]\n",
        "arr = np.array(lst)\n",
        "print(arr)\n",
        "print(arr.ndim)"
      ],
      "metadata": {
        "colab": {
          "base_uri": "https://localhost:8080/"
        },
        "id": "orXyEJLZx30J",
        "outputId": "c2348539-404d-4ca4-8719-969cdaaae78b"
      },
      "execution_count": null,
      "outputs": [
        {
          "output_type": "stream",
          "name": "stdout",
          "text": [
            "[[[1 2 3]\n",
            "  [4 5 6]]\n",
            "\n",
            " [[1 2 3]\n",
            "  [4 5 6]]]\n",
            "3\n"
          ]
        }
      ]
    },
    {
      "cell_type": "code",
      "source": [
        "lst = [[[1,2,3],[4,5,6]],[[1,2,3],[4,5,6]]]\n",
        "arr = np.array(lst)\n",
        "print(arr.shape)"
      ],
      "metadata": {
        "colab": {
          "base_uri": "https://localhost:8080/"
        },
        "id": "W-CgMU6ByYI8",
        "outputId": "f31effad-4f4e-4969-e24d-38fb758927c5"
      },
      "execution_count": null,
      "outputs": [
        {
          "output_type": "stream",
          "name": "stdout",
          "text": [
            "(2, 2, 3)\n"
          ]
        }
      ]
    },
    {
      "cell_type": "markdown",
      "source": [
        "dtype,ndim,shape\n",
        "\n",
        "shape\n",
        "1D retruns no of elements inside the collection for single or 1d array\n",
        "\n",
        "2D return (rows,columns)\n",
        "\n",
        "3D return (depth,rows,columns)\n"
      ],
      "metadata": {
        "id": "aPkNpf93yeCm"
      }
    },
    {
      "cell_type": "code",
      "source": [
        "import numpy as np\n",
        "lst = [[[10,20,30],[10,20,30],[30,30,40]]]\n",
        "arr = np.array(lst)\n",
        "print(arr)\n"
      ],
      "metadata": {
        "id": "R7XoN6HAyki-",
        "colab": {
          "base_uri": "https://localhost:8080/"
        },
        "outputId": "70488f11-5d31-482b-cc3e-5f4e33636589"
      },
      "execution_count": null,
      "outputs": [
        {
          "output_type": "stream",
          "name": "stdout",
          "text": [
            "[[[10 20 30]\n",
            "  [10 20 30]\n",
            "  [30 30 40]]]\n"
          ]
        }
      ]
    },
    {
      "cell_type": "code",
      "source": [
        "print(arr.dtype)"
      ],
      "metadata": {
        "colab": {
          "base_uri": "https://localhost:8080/"
        },
        "id": "_7fobOrwiTTj",
        "outputId": "002d9a54-e25a-434a-abd8-85d630d823da"
      },
      "execution_count": null,
      "outputs": [
        {
          "output_type": "stream",
          "name": "stdout",
          "text": [
            "int64\n"
          ]
        }
      ]
    },
    {
      "cell_type": "markdown",
      "source": [
        "ndim -->(depth,row,column)"
      ],
      "metadata": {
        "id": "88vq4Q4uiyWH"
      }
    },
    {
      "cell_type": "code",
      "source": [
        "print(arr.ndim)"
      ],
      "metadata": {
        "colab": {
          "base_uri": "https://localhost:8080/"
        },
        "id": "Q9GISKjoipJG",
        "outputId": "c43a964d-9eff-437d-a966-712e84c08a85"
      },
      "execution_count": null,
      "outputs": [
        {
          "output_type": "stream",
          "name": "stdout",
          "text": [
            "3\n"
          ]
        }
      ]
    },
    {
      "cell_type": "code",
      "source": [
        "print(arr.shape)"
      ],
      "metadata": {
        "colab": {
          "base_uri": "https://localhost:8080/"
        },
        "id": "JzPojgY9iWZ1",
        "outputId": "d92a8b2d-1349-4625-b87e-82e3892ead29"
      },
      "execution_count": null,
      "outputs": [
        {
          "output_type": "stream",
          "name": "stdout",
          "text": [
            "(1, 3, 3)\n"
          ]
        }
      ]
    },
    {
      "cell_type": "code",
      "source": [
        "lst = [10,20,30,40,50,60,70,80,90]\n",
        "arr = np.array(lst)\n",
        "print(arr.reshape(3,3))"
      ],
      "metadata": {
        "colab": {
          "base_uri": "https://localhost:8080/"
        },
        "id": "ClYVOs96i9H0",
        "outputId": "26789fdd-c84c-4514-d8a2-e242cc0a63a1"
      },
      "execution_count": null,
      "outputs": [
        {
          "output_type": "stream",
          "name": "stdout",
          "text": [
            "[[10 20 30]\n",
            " [40 50 60]\n",
            " [70 80 90]]\n"
          ]
        }
      ]
    },
    {
      "cell_type": "code",
      "source": [
        "print(arr.dtype)\n",
        "print(arr.ndim)\n",
        "print(arr.shape)"
      ],
      "metadata": {
        "colab": {
          "base_uri": "https://localhost:8080/"
        },
        "id": "eK_PBFR3jXdz",
        "outputId": "e587e8c8-bb27-4b0e-f91a-61aa1911004f"
      },
      "execution_count": null,
      "outputs": [
        {
          "output_type": "stream",
          "name": "stdout",
          "text": [
            "int64\n",
            "1\n",
            "(9,)\n"
          ]
        }
      ]
    },
    {
      "cell_type": "code",
      "source": [
        "# 1D\n",
        "arr_1d = np.array([1,2,3,4])\n",
        "print(arr_1d.ndim)\n",
        "print(arr_1d.shape)"
      ],
      "metadata": {
        "colab": {
          "base_uri": "https://localhost:8080/"
        },
        "id": "-CVLIPxcl5oS",
        "outputId": "e33c41ab-3588-4974-b8a5-712d690f3a28"
      },
      "execution_count": null,
      "outputs": [
        {
          "output_type": "stream",
          "name": "stdout",
          "text": [
            "1\n",
            "(4,)\n"
          ]
        }
      ]
    },
    {
      "cell_type": "code",
      "source": [
        "# 2D\n",
        "arr_1d = np.array([[1,2,3],[4,5,6]])\n",
        "print(arr_1d.ndim)\n",
        "print(arr_1d.shape)"
      ],
      "metadata": {
        "colab": {
          "base_uri": "https://localhost:8080/"
        },
        "id": "vooqDSf5mE5N",
        "outputId": "4bee4fea-04eb-4db3-91f1-e465e9b3aaac"
      },
      "execution_count": null,
      "outputs": [
        {
          "output_type": "stream",
          "name": "stdout",
          "text": [
            "2\n",
            "(2, 3)\n"
          ]
        }
      ]
    },
    {
      "cell_type": "code",
      "source": [
        "# 3D\n",
        "arr_1d = np.array([[1,2,3,4,5]])\n",
        "print(arr_1d.ndim)\n",
        "print(arr_1d.shape)"
      ],
      "metadata": {
        "colab": {
          "base_uri": "https://localhost:8080/"
        },
        "id": "_bxqAsiomQzc",
        "outputId": "12788c36-80ee-45a8-b62f-10a4c43650d8"
      },
      "execution_count": null,
      "outputs": [
        {
          "output_type": "stream",
          "name": "stdout",
          "text": [
            "2\n",
            "(1, 5)\n"
          ]
        }
      ]
    },
    {
      "cell_type": "code",
      "source": [
        "lst = [[[1],[3],[2]],[[1],[3],[2]]]\n",
        "\n",
        "arr = np.array(lst)\n",
        "print(arr)\n",
        "print(arr.shape)"
      ],
      "metadata": {
        "colab": {
          "base_uri": "https://localhost:8080/"
        },
        "id": "sK-9V87xosYu",
        "outputId": "e2000b92-8808-476e-fe2f-0397952900a6"
      },
      "execution_count": null,
      "outputs": [
        {
          "output_type": "stream",
          "name": "stdout",
          "text": [
            "[[[1]\n",
            "  [3]\n",
            "  [2]]\n",
            "\n",
            " [[1]\n",
            "  [3]\n",
            "  [2]]]\n",
            "(2, 3, 1)\n"
          ]
        }
      ]
    },
    {
      "cell_type": "code",
      "source": [
        "lst = [[[1,2,3],[3,3,4],[2,2,3]],[[1,2,3],[3,2,3],[2,3,2]]]\n",
        "arr = np.array(lst)\n",
        "print(arr)\n",
        "print(arr.shape)"
      ],
      "metadata": {
        "colab": {
          "base_uri": "https://localhost:8080/"
        },
        "id": "98WnFWCbo7Qd",
        "outputId": "f6cf1871-9b08-4584-836a-db74c8ce4c55"
      },
      "execution_count": null,
      "outputs": [
        {
          "output_type": "stream",
          "name": "stdout",
          "text": [
            "[[[1 2 3]\n",
            "  [3 3 4]\n",
            "  [2 2 3]]\n",
            "\n",
            " [[1 2 3]\n",
            "  [3 2 3]\n",
            "  [2 3 2]]]\n",
            "(2, 3, 3)\n"
          ]
        }
      ]
    },
    {
      "cell_type": "code",
      "source": [
        "# 1,3,3\n",
        "lst = [[[2,3,4],[3,3,3],[3,4,5]]]\n",
        "arr = np.array(lst)\n",
        "print(arr.shape)"
      ],
      "metadata": {
        "colab": {
          "base_uri": "https://localhost:8080/"
        },
        "id": "5nVW3RWUqcd3",
        "outputId": "a27adca4-9d8f-4bf6-a674-b224e41f4c13"
      },
      "execution_count": null,
      "outputs": [
        {
          "output_type": "stream",
          "name": "stdout",
          "text": [
            "(1, 3, 3)\n"
          ]
        }
      ]
    },
    {
      "cell_type": "code",
      "source": [],
      "metadata": {
        "id": "q3d5DOBEyA6P"
      },
      "execution_count": null,
      "outputs": []
    },
    {
      "cell_type": "markdown",
      "source": [
        "#IN BUILT FUNCTIONS"
      ],
      "metadata": {
        "id": "Phq9iQCQx-DL"
      }
    },
    {
      "cell_type": "markdown",
      "source": [
        "np.zeros((depth,row,col),dtype=int)\n",
        "\n",
        "create an array filled with zeros"
      ],
      "metadata": {
        "id": "WdwFXiyx0ZyF"
      }
    },
    {
      "cell_type": "code",
      "source": [
        "# 1D\n",
        "arr = np.zeros((3),dtype=int)\n",
        "print(arr)"
      ],
      "metadata": {
        "colab": {
          "base_uri": "https://localhost:8080/"
        },
        "id": "eoem6IopyCKu",
        "outputId": "58cd18c9-9d86-4221-c62e-208c591538e2"
      },
      "execution_count": null,
      "outputs": [
        {
          "output_type": "stream",
          "name": "stdout",
          "text": [
            "[0 0 0]\n"
          ]
        }
      ]
    },
    {
      "cell_type": "code",
      "source": [
        "# 2D\n",
        "arr = np.zeros((3,4),dtype=int)\n",
        "print(arr)"
      ],
      "metadata": {
        "colab": {
          "base_uri": "https://localhost:8080/"
        },
        "id": "ZAGqpzkGyL2h",
        "outputId": "610cd3f3-3b44-4aad-8055-2269a6b7ab82"
      },
      "execution_count": null,
      "outputs": [
        {
          "output_type": "stream",
          "name": "stdout",
          "text": [
            "[[0 0 0 0]\n",
            " [0 0 0 0]\n",
            " [0 0 0 0]]\n"
          ]
        }
      ]
    },
    {
      "cell_type": "code",
      "source": [
        "# 3D\n",
        "arr = np.zeros((2,3,4),dtype=str)\n",
        "print(arr)"
      ],
      "metadata": {
        "colab": {
          "base_uri": "https://localhost:8080/"
        },
        "id": "kOzerep_yQUw",
        "outputId": "b85f80fb-0f83-4be1-f587-5255405a632f"
      },
      "execution_count": null,
      "outputs": [
        {
          "output_type": "stream",
          "name": "stdout",
          "text": [
            "[[['' '' '' '']\n",
            "  ['' '' '' '']\n",
            "  ['' '' '' '']]\n",
            "\n",
            " [['' '' '' '']\n",
            "  ['' '' '' '']\n",
            "  ['' '' '' '']]]\n"
          ]
        }
      ]
    },
    {
      "cell_type": "markdown",
      "source": [
        "np.ones((depth,row,col),dtype=int)\n",
        "\n",
        "create an array filled with ones"
      ],
      "metadata": {
        "id": "svSEcj1O0MCN"
      }
    },
    {
      "cell_type": "code",
      "source": [
        "# 1D\n",
        "arr = np.ones((3),dtype=int)\n",
        "print(arr)"
      ],
      "metadata": {
        "colab": {
          "base_uri": "https://localhost:8080/"
        },
        "id": "EFFysK211M82",
        "outputId": "1203ec10-f172-478c-cafb-e6c04f5c6d05"
      },
      "execution_count": null,
      "outputs": [
        {
          "output_type": "stream",
          "name": "stdout",
          "text": [
            "[1 1 1]\n"
          ]
        }
      ]
    },
    {
      "cell_type": "code",
      "source": [
        "# 2D\n",
        "arr = np.ones((3,4),dtype=int)\n",
        "print(arr)"
      ],
      "metadata": {
        "colab": {
          "base_uri": "https://localhost:8080/"
        },
        "id": "eTgaEhds1Nb-",
        "outputId": "9e05db6e-c388-4212-93d5-b7e73c65cb8b"
      },
      "execution_count": null,
      "outputs": [
        {
          "output_type": "stream",
          "name": "stdout",
          "text": [
            "[[1 1 1 1]\n",
            " [1 1 1 1]\n",
            " [1 1 1 1]]\n"
          ]
        }
      ]
    },
    {
      "cell_type": "code",
      "source": [
        "# 3D\n",
        "arr = np.ones((2,3,4),dtype=str)\n",
        "print(arr)"
      ],
      "metadata": {
        "colab": {
          "base_uri": "https://localhost:8080/"
        },
        "id": "TseJlC3KzThM",
        "outputId": "2942f540-835b-45bc-e05d-a9c55d8ecf1b"
      },
      "execution_count": null,
      "outputs": [
        {
          "output_type": "stream",
          "name": "stdout",
          "text": [
            "[[['1' '1' '1' '1']\n",
            "  ['1' '1' '1' '1']\n",
            "  ['1' '1' '1' '1']]\n",
            "\n",
            " [['1' '1' '1' '1']\n",
            "  ['1' '1' '1' '1']\n",
            "  ['1' '1' '1' '1']]]\n"
          ]
        }
      ]
    },
    {
      "cell_type": "markdown",
      "source": [
        "arange --."
      ],
      "metadata": {
        "id": "Sha7JwOH2SAp"
      }
    },
    {
      "cell_type": "code",
      "source": [
        "arr = np.arange(1,11,dtype=int)\n",
        "print(arr)"
      ],
      "metadata": {
        "colab": {
          "base_uri": "https://localhost:8080/"
        },
        "id": "Fk5sQM3H2Tdy",
        "outputId": "3433ff8a-3a35-48ed-9c8a-90890a502c61"
      },
      "execution_count": null,
      "outputs": [
        {
          "output_type": "stream",
          "name": "stdout",
          "text": [
            "[ 1  2  3  4  5  6  7  8  9 10]\n"
          ]
        }
      ]
    },
    {
      "cell_type": "code",
      "source": [
        "arr = np.linspace(1,10,3,dtype=int)\n",
        "print(arr)"
      ],
      "metadata": {
        "colab": {
          "base_uri": "https://localhost:8080/"
        },
        "id": "fcHlZ7Rr2pc4",
        "outputId": "3d13bb82-fa2f-4326-f71b-bedcdfeaaf7d"
      },
      "execution_count": null,
      "outputs": [
        {
          "output_type": "stream",
          "name": "stdout",
          "text": [
            "[ 1  5 10]\n"
          ]
        }
      ]
    },
    {
      "cell_type": "code",
      "source": [
        "arr = np.linspace(1,10,5)\n",
        "print(arr)"
      ],
      "metadata": {
        "colab": {
          "base_uri": "https://localhost:8080/"
        },
        "id": "RInSAGCS48R0",
        "outputId": "6e5670c4-d72c-4055-e373-a419af48d257"
      },
      "execution_count": null,
      "outputs": [
        {
          "output_type": "stream",
          "name": "stdout",
          "text": [
            "[ 1.    3.25  5.5   7.75 10.  ]\n"
          ]
        }
      ]
    },
    {
      "cell_type": "code",
      "source": [
        "arr = np.empty((2,3,3),dtype=int)\n",
        "print(arr)"
      ],
      "metadata": {
        "colab": {
          "base_uri": "https://localhost:8080/"
        },
        "id": "lxDfV0K37O-i",
        "outputId": "e7c58bf0-0e16-4f2e-87b5-0907e157aaf4"
      },
      "execution_count": null,
      "outputs": [
        {
          "output_type": "stream",
          "name": "stdout",
          "text": [
            "[[[1 2 3]\n",
            "  [3 3 4]\n",
            "  [2 2 3]]\n",
            "\n",
            " [[1 2 3]\n",
            "  [3 2 3]\n",
            "  [2 3 2]]]\n"
          ]
        }
      ]
    },
    {
      "cell_type": "code",
      "source": [
        "arr = np.eye(2,3,2,dtype=int)\n",
        "print(arr)"
      ],
      "metadata": {
        "colab": {
          "base_uri": "https://localhost:8080/"
        },
        "id": "eAWSIZYm7aq-",
        "outputId": "25c0c415-a717-414e-ac4f-bbc64c2289a6"
      },
      "execution_count": null,
      "outputs": [
        {
          "output_type": "stream",
          "name": "stdout",
          "text": [
            "[[0 0 1]\n",
            " [0 0 0]]\n"
          ]
        }
      ]
    },
    {
      "cell_type": "markdown",
      "source": [
        "(2, 4, 3)\n",
        "\n",
        "(3, 3, 3)\n",
        "\n",
        "(4, 2, 5)\n",
        "\n",
        "(3, 3, 4)\n",
        "\n",
        "(2, 3, 3)\n",
        "\n",
        "(2, 3, 4)\n",
        "\n",
        "(3, 2, 2)\n",
        "\n",
        "(2, 3, 3)\n",
        "\n",
        "(3, 4, 2)"
      ],
      "metadata": {
        "id": "JfMX15VpE75A"
      }
    },
    {
      "cell_type": "code",
      "source": [
        "import numpy as np\n",
        "lst = [\n",
        "    [[1,2],[2,3],[4,5],[5,6]],\n",
        "    [[1,2],[2,3],[4,5],[5,6]],\n",
        "    [[1,2],[2,3],[4,5],[5,6]]\n",
        "]\n",
        "arr = np.array(lst)\n",
        "print(arr.shape)"
      ],
      "metadata": {
        "id": "wDufdZEY6JPk",
        "colab": {
          "base_uri": "https://localhost:8080/"
        },
        "outputId": "5aeab926-b889-46c6-acdf-89a79ee7e42b"
      },
      "execution_count": null,
      "outputs": [
        {
          "output_type": "stream",
          "name": "stdout",
          "text": [
            "(3, 4, 2)\n"
          ]
        }
      ]
    },
    {
      "cell_type": "code",
      "source": [
        "lst = [\n",
        "    [[2,3,4],[3,4,4],[4,3,4]],\n",
        "    [[2,3,4],[3,4,4],[4,3,4]],\n",
        "    [[2,3,4],[3,4,4],[4,3,4]]\n",
        "\n",
        "]\n",
        "\n",
        "arr = np.array(lst)\n",
        "print(arr.shape)"
      ],
      "metadata": {
        "colab": {
          "base_uri": "https://localhost:8080/"
        },
        "id": "-VyJIEiiF3ju",
        "outputId": "fdecbf5d-450b-473c-c7d3-88af10edb923"
      },
      "execution_count": null,
      "outputs": [
        {
          "output_type": "stream",
          "name": "stdout",
          "text": [
            "(3, 3, 3)\n"
          ]
        }
      ]
    },
    {
      "cell_type": "code",
      "source": [
        "lst =[\n",
        "    [[1,2,3,4,5],[1,2,3,5,6]],\n",
        "    [[1,2,3,4,5],[1,2,3,4,3]]\n",
        "]\n",
        "arr = np.array(lst)\n",
        "print(arr.shape)"
      ],
      "metadata": {
        "colab": {
          "base_uri": "https://localhost:8080/"
        },
        "id": "VNmaweKtGFyD",
        "outputId": "52eee1f7-7973-471f-d547-c6714b6facb7"
      },
      "execution_count": null,
      "outputs": [
        {
          "output_type": "stream",
          "name": "stdout",
          "text": [
            "(2, 2, 5)\n"
          ]
        }
      ]
    },
    {
      "cell_type": "code",
      "source": [
        "import numpy as np\n",
        "# (3, 3, 4)\n",
        "lst = [\n",
        "    [[2,3,5,6],[2,4,2,2],[2,2,2,1]],\n",
        "    [[2,3,5,6],[2,4,2,2],[2,2,2,1]],\n",
        "    [[2,3,5,6],[2,4,2,2],[2,2,2,1]]\n",
        "\n",
        "]\n",
        "\n",
        "arr = np.array(lst)\n",
        "print(arr.shape)"
      ],
      "metadata": {
        "colab": {
          "base_uri": "https://localhost:8080/"
        },
        "id": "bAoTUec_zsdA",
        "outputId": "1c6fcbd3-b171-4bf7-d440-ed0377450804"
      },
      "execution_count": null,
      "outputs": [
        {
          "output_type": "stream",
          "name": "stdout",
          "text": [
            "(3, 3, 4)\n"
          ]
        }
      ]
    },
    {
      "cell_type": "code",
      "source": [
        "# (2, 3, 4)\n",
        "lst = [\n",
        "    [[2,3,5,3],[2,2,4,2],[2,4,2,4]],\n",
        "    [[2,3,5,3],[2,2,4,2],[2,4,2,4]]\n",
        "]\n",
        "\n",
        "arr = np.array(lst)\n",
        "print(arr.shape)"
      ],
      "metadata": {
        "colab": {
          "base_uri": "https://localhost:8080/"
        },
        "id": "2gabtQxo0VYD",
        "outputId": "9dcdfa5e-2e83-400b-8b58-efab8bea7ee0"
      },
      "execution_count": null,
      "outputs": [
        {
          "output_type": "stream",
          "name": "stdout",
          "text": [
            "(2, 3, 4)\n"
          ]
        }
      ]
    },
    {
      "cell_type": "code",
      "source": [],
      "metadata": {
        "id": "fXUlxfOF1aNf"
      },
      "execution_count": null,
      "outputs": []
    },
    {
      "cell_type": "markdown",
      "source": [
        "#np.linspace\n",
        "\n",
        "Create an array with a specified number of equally spaced elements between a given range\n",
        "\n",
        "\n",
        "np.linspace(start value , end value , step or num = value)\n",
        "\n",
        "here num represents the specified sub parts you have to devided"
      ],
      "metadata": {
        "id": "c5J-Sr3o1dXf"
      }
    },
    {
      "cell_type": "markdown",
      "source": [
        "np.eye(rows,columns,step value) --> creates an identity matrix\n",
        "\n",
        "np.empty() --> creates an empty array without initializing values\n",
        "\n",
        "np.zeros()\n",
        "\n",
        "np.ones()\n",
        "\n",
        "np.arange()"
      ],
      "metadata": {
        "id": "XG8BLz1_2BzK"
      }
    },
    {
      "cell_type": "code",
      "source": [
        "arr = np.eye(3,4,1)\n",
        "print(arr)"
      ],
      "metadata": {
        "colab": {
          "base_uri": "https://localhost:8080/"
        },
        "id": "kpizwKsr06BC",
        "outputId": "b458f9e9-44d9-4e4a-eb34-4d755bddf071"
      },
      "execution_count": null,
      "outputs": [
        {
          "output_type": "stream",
          "name": "stdout",
          "text": [
            "[[0. 1. 0. 0.]\n",
            " [0. 0. 1. 0.]\n",
            " [0. 0. 0. 1.]]\n"
          ]
        }
      ]
    },
    {
      "cell_type": "markdown",
      "source": [
        "ARRAY SHAPE AND STRUCTURE BUILTIN FUNCtiONS\n",
        "\n",
        "reshape() --> change the shape or array\n",
        "\n",
        "np.reshape(arr,(row,col))\n",
        "\n",
        "or\n",
        "\n",
        "arr.reshape(row,col)"
      ],
      "metadata": {
        "id": "ejm5l9pf4A09"
      }
    },
    {
      "cell_type": "code",
      "source": [
        "arr = np.arange(1,13)\n",
        "print(arr)\n",
        "\n",
        "#reshape function\n",
        "print()\n",
        "print(arr.reshape(3,4))"
      ],
      "metadata": {
        "colab": {
          "base_uri": "https://localhost:8080/"
        },
        "id": "l00iGud94Ha_",
        "outputId": "f0b1e14f-d5d8-4c3e-9f52-8dad29e88fd7"
      },
      "execution_count": null,
      "outputs": [
        {
          "output_type": "stream",
          "name": "stdout",
          "text": [
            "[ 1  2  3  4  5  6  7  8  9 10 11 12]\n",
            "\n",
            "[[ 1  2  3  4]\n",
            " [ 5  6  7  8]\n",
            " [ 9 10 11 12]]\n"
          ]
        }
      ]
    },
    {
      "cell_type": "code",
      "source": [
        "arr = np.linspace(1,20,6)\n",
        "print(arr.reshape(2,3))"
      ],
      "metadata": {
        "colab": {
          "base_uri": "https://localhost:8080/"
        },
        "id": "okJVr7by4T7d",
        "outputId": "d5c9eaeb-5deb-4469-de7f-b3c7020d7c60"
      },
      "execution_count": null,
      "outputs": [
        {
          "output_type": "stream",
          "name": "stdout",
          "text": [
            "[[ 1.   4.8  8.6]\n",
            " [12.4 16.2 20. ]]\n"
          ]
        }
      ]
    },
    {
      "cell_type": "code",
      "source": [
        "lst = [1,2,3,4,5,6,7,8,9,10,11,12]\n",
        "arr = np.reshape(lst,(4,3))\n",
        "print(arr)\n",
        "print(arr.dtype)\n",
        "print(arr.shape)\n",
        "print(arr.ndim)"
      ],
      "metadata": {
        "colab": {
          "base_uri": "https://localhost:8080/"
        },
        "id": "9asRf6nM5RVa",
        "outputId": "a317ad96-2804-4e68-c690-74f871ead282"
      },
      "execution_count": null,
      "outputs": [
        {
          "output_type": "stream",
          "name": "stdout",
          "text": [
            "[[ 1  2  3]\n",
            " [ 4  5  6]\n",
            " [ 7  8  9]\n",
            " [10 11 12]]\n",
            "int64\n",
            "(4, 3)\n",
            "2\n"
          ]
        }
      ]
    },
    {
      "cell_type": "code",
      "source": [],
      "metadata": {
        "colab": {
          "base_uri": "https://localhost:8080/"
        },
        "id": "OwSG-l6p6R9O",
        "outputId": "222eac92-cf8b-4bd0-d4ec-5cb6164f40a9"
      },
      "execution_count": null,
      "outputs": [
        {
          "output_type": "stream",
          "name": "stdout",
          "text": [
            "[ 1  2  3  4  5  6  7  8  9 10 11 12]\n"
          ]
        }
      ]
    },
    {
      "cell_type": "markdown",
      "source": [],
      "metadata": {
        "id": "Q1A0MxDp7MA2"
      }
    },
    {
      "cell_type": "code",
      "source": [
        "arr = np.arange(2,13,2)\n",
        "print(arr.reshape(3,2))\n",
        "# or\n",
        "print()\n",
        "print(arr.reshape(2,3))\n",
        "print()\n",
        "print(arr.reshape(6,1))\n",
        "print()\n",
        "print(arr.reshape(1,6))\n",
        "\n"
      ],
      "metadata": {
        "colab": {
          "base_uri": "https://localhost:8080/"
        },
        "id": "QQh0fPta6ink",
        "outputId": "b967698b-76d1-426c-f4ea-5102c2c53003"
      },
      "execution_count": null,
      "outputs": [
        {
          "output_type": "stream",
          "name": "stdout",
          "text": [
            "[[ 2  4]\n",
            " [ 6  8]\n",
            " [10 12]]\n",
            "\n",
            "[[ 2  4  6]\n",
            " [ 8 10 12]]\n",
            "\n",
            "[[ 2]\n",
            " [ 4]\n",
            " [ 6]\n",
            " [ 8]\n",
            " [10]\n",
            " [12]]\n",
            "\n",
            "[[ 2  4  6  8 10 12]]\n"
          ]
        }
      ]
    },
    {
      "cell_type": "code",
      "source": [
        "arr = np.linspace(1,13,13)\n",
        "print(arr.reshape(13,1))"
      ],
      "metadata": {
        "colab": {
          "base_uri": "https://localhost:8080/"
        },
        "id": "YW-_KeBH7aps",
        "outputId": "520f104e-039a-4847-e750-66becbf5ea18"
      },
      "execution_count": null,
      "outputs": [
        {
          "output_type": "stream",
          "name": "stdout",
          "text": [
            "[[ 1.]\n",
            " [ 2.]\n",
            " [ 3.]\n",
            " [ 4.]\n",
            " [ 5.]\n",
            " [ 6.]\n",
            " [ 7.]\n",
            " [ 8.]\n",
            " [ 9.]\n",
            " [10.]\n",
            " [11.]\n",
            " [12.]\n",
            " [13.]]\n"
          ]
        }
      ]
    },
    {
      "cell_type": "markdown",
      "source": [
        "np.ravel(lst) --> convert to 1D array"
      ],
      "metadata": {
        "id": "_N0tlYFp8zQv"
      }
    },
    {
      "cell_type": "code",
      "source": [
        "arr = np.arange(2,21,2)\n",
        "print(arr)\n",
        "print()\n",
        "arr_re = arr.reshape(5,2)\n",
        "print(arr_re)\n",
        "\n",
        "re = np.reshape(arr_re,(-1))\n",
        "print(re)\n",
        "# print(arr_re.ravel())\n"
      ],
      "metadata": {
        "colab": {
          "base_uri": "https://localhost:8080/"
        },
        "id": "YJEMgumI8sPG",
        "outputId": "03c30adf-a99c-4404-e4e2-40b9f3bfd0f3"
      },
      "execution_count": null,
      "outputs": [
        {
          "output_type": "stream",
          "name": "stdout",
          "text": [
            "[ 2  4  6  8 10 12 14 16 18 20]\n",
            "\n",
            "[[ 2  4]\n",
            " [ 6  8]\n",
            " [10 12]\n",
            " [14 16]\n",
            " [18 20]]\n",
            "[ 2  4  6  8 10 12 14 16 18 20]\n"
          ]
        }
      ]
    },
    {
      "cell_type": "markdown",
      "source": [
        "ARRAY MATHEMATICAL FUNCTIONS"
      ],
      "metadata": {
        "id": "-QRDbvz5-v74"
      }
    },
    {
      "cell_type": "code",
      "source": [
        "arr = np.arange(1,100)\n",
        "print(arr)"
      ],
      "metadata": {
        "colab": {
          "base_uri": "https://localhost:8080/"
        },
        "id": "H8xXQ-sp-y6y",
        "outputId": "65e8f036-456e-4b63-a37f-699150304879"
      },
      "execution_count": null,
      "outputs": [
        {
          "output_type": "stream",
          "name": "stdout",
          "text": [
            "[ 1  2  3  4  5  6  7  8  9 10 11 12 13 14 15 16 17 18 19 20 21 22 23 24\n",
            " 25 26 27 28 29 30 31 32 33 34 35 36 37 38 39 40 41 42 43 44 45 46 47 48\n",
            " 49 50 51 52 53 54 55 56 57 58 59 60 61 62 63 64 65 66 67 68 69 70 71 72\n",
            " 73 74 75 76 77 78 79 80 81 82 83 84 85 86 87 88 89 90 91 92 93 94 95 96\n",
            " 97 98 99]\n"
          ]
        }
      ]
    },
    {
      "cell_type": "code",
      "source": [
        "print(\"Sum : \",np.sum(arr))\n",
        "print(\"Mean : \",np.mean(arr))\n",
        "print(\"Median : \",np.median(arr))\n",
        "print(\"STANDARD DEVIATION : \",np.std(arr))\n",
        "print(\"Min Value :  \",np.min(arr))\n",
        "print(\"Max Value : \",np.max(arr))\n"
      ],
      "metadata": {
        "colab": {
          "base_uri": "https://localhost:8080/"
        },
        "id": "e_HJS1nU_CWX",
        "outputId": "726602c2-d40a-4963-ccbb-8fa2ab08cd6a"
      },
      "execution_count": null,
      "outputs": [
        {
          "output_type": "stream",
          "name": "stdout",
          "text": [
            "Sum :  4950\n",
            "Mean :  50.0\n",
            "Median :  50.0\n",
            "STANDARD DEVIATION :  28.577380332470412\n",
            "Min Value :   1\n",
            "Max Value :  99\n"
          ]
        }
      ]
    },
    {
      "cell_type": "markdown",
      "source": [
        "#RANDOM FUNCTIONS\n",
        "\n",
        "\n",
        "np.random.rand(depth,row,col)\n",
        "\n",
        "create array with random value between 0 to 1"
      ],
      "metadata": {
        "id": "mUKUzeV_DmiA"
      }
    },
    {
      "cell_type": "code",
      "source": [
        "arr = np.random.rand(2,2,2)\n",
        "print(arr)"
      ],
      "metadata": {
        "colab": {
          "base_uri": "https://localhost:8080/"
        },
        "id": "Ww6pPEosDoKe",
        "outputId": "f74e91e5-450b-486f-dcb6-e4660565ae0c"
      },
      "execution_count": null,
      "outputs": [
        {
          "output_type": "stream",
          "name": "stdout",
          "text": [
            "[[[0.71004705 0.1567029 ]\n",
            "  [0.70976634 0.89330406]]\n",
            "\n",
            " [[0.74803674 0.51096402]\n",
            "  [0.24368216 0.83270147]]]\n"
          ]
        }
      ]
    },
    {
      "cell_type": "markdown",
      "source": [
        "np.random.randint(start,end , size = (depth , row , col),dtype='int32')"
      ],
      "metadata": {
        "id": "C1mCsylJGdVV"
      }
    },
    {
      "cell_type": "code",
      "source": [
        "arr = np.random.randint(1,10,(3,3),dtype='int32')\n",
        "print(arr)"
      ],
      "metadata": {
        "colab": {
          "base_uri": "https://localhost:8080/"
        },
        "id": "6OkrwMEREsOV",
        "outputId": "3886f182-310a-4427-cae8-9695636ea46f"
      },
      "execution_count": null,
      "outputs": [
        {
          "output_type": "stream",
          "name": "stdout",
          "text": [
            "[[4 5 1]\n",
            " [8 1 7]\n",
            " [1 1 3]]\n"
          ]
        }
      ]
    },
    {
      "cell_type": "markdown",
      "source": [
        "np.random.randn(shape,dtype)"
      ],
      "metadata": {
        "id": "ssegEV8DGuur"
      }
    },
    {
      "cell_type": "code",
      "source": [
        "arr = np.random.randn(3,3,3)\n",
        "print(arr)"
      ],
      "metadata": {
        "colab": {
          "base_uri": "https://localhost:8080/"
        },
        "id": "C2XVURSzHGrA",
        "outputId": "6a8a5de7-5a82-4e13-9967-72cd23ee14f0"
      },
      "execution_count": null,
      "outputs": [
        {
          "output_type": "stream",
          "name": "stdout",
          "text": [
            "[[[ 0.39574205 -1.84140499 -1.3701174 ]\n",
            "  [-0.41228283  0.01499298  0.17058564]\n",
            "  [ 0.11133941  0.19216415 -1.47723006]]\n",
            "\n",
            " [[-0.32835615 -0.12166958  1.03037152]\n",
            "  [ 0.92505253 -0.92619479 -1.80410418]\n",
            "  [-0.46830597 -0.49358143  0.55343158]]\n",
            "\n",
            " [[ 0.4165454  -0.6546097  -0.94340279]\n",
            "  [-1.14202307  0.85577213  1.37468965]\n",
            "  [ 0.19911951 -1.69878233 -1.5268228 ]]]\n"
          ]
        }
      ]
    },
    {
      "cell_type": "markdown",
      "source": [
        "ACCESSING AND MODIFYING ELEMENTS IN NUMPY"
      ],
      "metadata": {
        "id": "vDbTjOflJbg8"
      }
    },
    {
      "cell_type": "code",
      "source": [
        "arr = np.arange(1,11)\n",
        "print(arr)"
      ],
      "metadata": {
        "colab": {
          "base_uri": "https://localhost:8080/"
        },
        "id": "5sbodSzKJjaL",
        "outputId": "e8575967-501c-46f1-f346-74635e419209"
      },
      "execution_count": null,
      "outputs": [
        {
          "output_type": "stream",
          "name": "stdout",
          "text": [
            "[ 1  2  3  4  5  6  7  8  9 10]\n"
          ]
        }
      ]
    },
    {
      "cell_type": "code",
      "source": [
        "print(arr[3])"
      ],
      "metadata": {
        "colab": {
          "base_uri": "https://localhost:8080/"
        },
        "id": "ZmOu39ipJqvC",
        "outputId": "76afe3f5-5072-4315-e49d-fbb367529f7b"
      },
      "execution_count": null,
      "outputs": [
        {
          "output_type": "stream",
          "name": "stdout",
          "text": [
            "4\n"
          ]
        }
      ]
    },
    {
      "cell_type": "code",
      "source": [
        "arr[3]=11\n",
        "print(arr[3])\n",
        "print(arr)"
      ],
      "metadata": {
        "colab": {
          "base_uri": "https://localhost:8080/"
        },
        "id": "vGYYkPrvJthS",
        "outputId": "990ee1fd-76cd-4ea4-cfd6-24de371cf389"
      },
      "execution_count": null,
      "outputs": [
        {
          "output_type": "stream",
          "name": "stdout",
          "text": [
            "11\n",
            "[ 1  2  3 11  5  6  7  8  9 10]\n"
          ]
        }
      ]
    },
    {
      "cell_type": "markdown",
      "source": [
        "2D Array -- arr[row_index , col_index]"
      ],
      "metadata": {
        "id": "MREA0bbVJzh-"
      }
    },
    {
      "cell_type": "code",
      "source": [
        "arr = np.arange(1,9)\n",
        "# print(arr)\n",
        "arr = arr.reshape(2,4)\n",
        "# print(arr)\n",
        "print(arr[1,2])"
      ],
      "metadata": {
        "colab": {
          "base_uri": "https://localhost:8080/"
        },
        "id": "H4DT9w1fJ6rb",
        "outputId": "dea85031-42dc-42cc-ca5f-1b48016cb1f0"
      },
      "execution_count": null,
      "outputs": [
        {
          "output_type": "stream",
          "name": "stdout",
          "text": [
            "7\n"
          ]
        }
      ]
    },
    {
      "cell_type": "code",
      "source": [
        "arr[1,2]=70\n",
        "print(arr[1,2])\n",
        "print(arr )"
      ],
      "metadata": {
        "colab": {
          "base_uri": "https://localhost:8080/"
        },
        "id": "3byrv599KoNR",
        "outputId": "6b35a757-248e-4f20-9e84-3b4882263788"
      },
      "execution_count": null,
      "outputs": [
        {
          "output_type": "stream",
          "name": "stdout",
          "text": [
            "70\n",
            "[[ 1  2  3  4]\n",
            " [ 5  6 70  8]]\n"
          ]
        }
      ]
    },
    {
      "cell_type": "markdown",
      "source": [
        "3d -->\n",
        "arr[depth_index , row_index , col_index]"
      ],
      "metadata": {
        "id": "eRk-BLPsNDtC"
      }
    },
    {
      "cell_type": "code",
      "source": [
        "arr = np.arange(1,46)\n",
        "arr = arr.reshape(3,3,5)\n",
        "print(arr)"
      ],
      "metadata": {
        "colab": {
          "base_uri": "https://localhost:8080/"
        },
        "id": "17X4mfjYNMeL",
        "outputId": "98cf1f57-f43d-44b7-d362-0dd9bc78bc86"
      },
      "execution_count": null,
      "outputs": [
        {
          "output_type": "stream",
          "name": "stdout",
          "text": [
            "[[[ 1  2  3  4  5]\n",
            "  [ 6  7  8  9 10]\n",
            "  [11 12 13 14 15]]\n",
            "\n",
            " [[16 17 18 19 20]\n",
            "  [21 22 23 24 25]\n",
            "  [26 27 28 29 30]]\n",
            "\n",
            " [[31 32 33 34 35]\n",
            "  [36 37 38 39 40]\n",
            "  [41 42 43 44 45]]]\n"
          ]
        }
      ]
    },
    {
      "cell_type": "code",
      "source": [
        "print(arr[2,2,3])"
      ],
      "metadata": {
        "colab": {
          "base_uri": "https://localhost:8080/"
        },
        "id": "Rn2256rIOFZx",
        "outputId": "36fa0286-f738-43e1-a3e3-48c6fd18d3eb"
      },
      "execution_count": null,
      "outputs": [
        {
          "output_type": "stream",
          "name": "stdout",
          "text": [
            "44\n"
          ]
        }
      ]
    },
    {
      "cell_type": "code",
      "source": [
        "arr[2,2,3]=440\n",
        "print(arr)"
      ],
      "metadata": {
        "colab": {
          "base_uri": "https://localhost:8080/"
        },
        "id": "Nl26sQfeONLy",
        "outputId": "9376472a-3fb7-4384-f914-184cc3a68af1"
      },
      "execution_count": null,
      "outputs": [
        {
          "output_type": "stream",
          "name": "stdout",
          "text": [
            "[[[  1   2   3   4   5]\n",
            "  [  6   7   8   9  10]\n",
            "  [ 11  12  13  14  15]]\n",
            "\n",
            " [[ 16  17  18  19  20]\n",
            "  [ 21  22  23  24  25]\n",
            "  [ 26  27  28  29  30]]\n",
            "\n",
            " [[ 31  32  33  34  35]\n",
            "  [ 36  37  38  39  40]\n",
            "  [ 41  42  43 440  45]]]\n"
          ]
        }
      ]
    },
    {
      "cell_type": "code",
      "source": [
        "import numpy as np"
      ],
      "metadata": {
        "id": "HcH5eIyKORvp"
      },
      "execution_count": null,
      "outputs": []
    },
    {
      "cell_type": "markdown",
      "source": [
        "Create a 1D NumPy array with values from o to 9.\n",
        "\n",
        "What is the shape and data type of this array: np.array([5, 10, 15, 20])?\n",
        "\n",
        "Convert a Python list [1, 2, 3, 4] into a NumPy array.\n",
        "\n",
        "How do you access the third element of a 1D NumPy array?\n",
        "\n",
        "Create a 1D array of 10 zeros and change the 5th element to 100.\n",
        "\n",
        "Create a 1D array with 20 random integers between 1 and 100 and find the mhaximum and minimum values.\n",
        "\n",
        "Create a 2x3 NumPy array with values from 1 to 6.\n",
        "\n",
        "How do you access the element in the second row, third column of a 2D array?\n",
        "\n",
        "What is the shape of the following array: np.array([[1,2],[3,4],[5,6]])?\n",
        "\n",
        "Create a 4X4 array of all zeros and replace the diagonal elements with 1.\n",
        "\n",
        "Create a 3x3 identity matrix using NumPy.\n",
        "\n",
        "Create a 3D NumPy array with shape (2, 3, 4) filled with zeros.\n",
        "\n",
        "What is the shape of the array: np.ones((2,2,2))?\n",
        "\n",
        "How many dimensions does a 3D array have?\n",
        "\n",
        "Create agD array of shape (2,3,3) filled with random numbers between o and 1."
      ],
      "metadata": {
        "id": "dU3dugZrIRYK"
      }
    },
    {
      "cell_type": "code",
      "source": [
        "# 1\n",
        "arr = np.arange(1,10)\n",
        "print(arr)"
      ],
      "metadata": {
        "colab": {
          "base_uri": "https://localhost:8080/"
        },
        "id": "z_yiRtEPIdIl",
        "outputId": "903edd29-f0c8-48a9-d4f5-643e0bbd40ee"
      },
      "execution_count": null,
      "outputs": [
        {
          "output_type": "stream",
          "name": "stdout",
          "text": [
            "[1 2 3 4 5 6 7 8 9]\n"
          ]
        }
      ]
    },
    {
      "cell_type": "code",
      "source": [
        "#2\n",
        "arr = np.array([5,10,15,20])\n",
        "print(arr.shape)\n",
        "print(arr.dtype)"
      ],
      "metadata": {
        "colab": {
          "base_uri": "https://localhost:8080/"
        },
        "id": "lLPUUz2TIi0D",
        "outputId": "3b8eb758-6574-4f26-91af-fd75959882e7"
      },
      "execution_count": null,
      "outputs": [
        {
          "output_type": "stream",
          "name": "stdout",
          "text": [
            "(4,)\n",
            "int64\n"
          ]
        }
      ]
    },
    {
      "cell_type": "code",
      "source": [
        "#3\n",
        "lst = [1,2,3,4]\n",
        "arr = np.array(lst)\n",
        "print(arr)"
      ],
      "metadata": {
        "colab": {
          "base_uri": "https://localhost:8080/"
        },
        "id": "n1bgaL4cIqZS",
        "outputId": "0cf6b4fe-af6f-41fe-e4f8-f4d609ba7052"
      },
      "execution_count": null,
      "outputs": [
        {
          "output_type": "stream",
          "name": "stdout",
          "text": [
            "[1 2 3 4]\n"
          ]
        }
      ]
    },
    {
      "cell_type": "code",
      "source": [
        "#4\n",
        "lst = [1,2,3,4]\n",
        "arr = np.array(lst)\n",
        "print(arr[2])"
      ],
      "metadata": {
        "colab": {
          "base_uri": "https://localhost:8080/"
        },
        "id": "czFzNIsBIwuY",
        "outputId": "ab9e8a23-5164-4e97-a9c9-b03bd4abfb62"
      },
      "execution_count": null,
      "outputs": [
        {
          "output_type": "stream",
          "name": "stdout",
          "text": [
            "3\n"
          ]
        }
      ]
    },
    {
      "cell_type": "code",
      "source": [
        "#5\n",
        "arr = np.zeros(10,dtype=int)\n",
        "arr[4]=100\n",
        "print(arr)"
      ],
      "metadata": {
        "colab": {
          "base_uri": "https://localhost:8080/"
        },
        "id": "G2fbVVySI6Zx",
        "outputId": "b4df7545-772c-4077-9784-a8a72320154b"
      },
      "execution_count": null,
      "outputs": [
        {
          "output_type": "stream",
          "name": "stdout",
          "text": [
            "[  0   0   0   0 100   0   0   0   0   0]\n"
          ]
        }
      ]
    },
    {
      "cell_type": "code",
      "source": [
        "#6\n",
        "arr = np.random.randint(1,100,(5,7),dtype=int)\n",
        "print(arr)\n",
        "max_val = np.max(arr)\n",
        "print(max_val)\n",
        "min_val = np.min(arr)\n",
        "print(min_val)"
      ],
      "metadata": {
        "colab": {
          "base_uri": "https://localhost:8080/"
        },
        "id": "BGjlUXVRJI5u",
        "outputId": "2c4e8e1a-c930-4a58-9209-4a1d110f9bf7"
      },
      "execution_count": null,
      "outputs": [
        {
          "output_type": "stream",
          "name": "stdout",
          "text": [
            "[[39 89 88 11 45 46 39]\n",
            " [72 14 86 71 89 92 40]\n",
            " [89 60 71 33 75 20 65]\n",
            " [ 5 24 45  3 37 66 45]\n",
            " [60 72 54 85 39 64 24]]\n",
            "92\n",
            "3\n"
          ]
        }
      ]
    },
    {
      "cell_type": "code",
      "source": [
        "#7\n",
        "arr = np.arange(1,7)\n",
        "arr = arr.reshape(2,3)\n",
        "print(arr)"
      ],
      "metadata": {
        "colab": {
          "base_uri": "https://localhost:8080/"
        },
        "id": "9YVWS8w6JerY",
        "outputId": "1184df03-a298-4fd6-c155-809ee2d061b0"
      },
      "execution_count": null,
      "outputs": [
        {
          "output_type": "stream",
          "name": "stdout",
          "text": [
            "[[1 2 3]\n",
            " [4 5 6]]\n"
          ]
        }
      ]
    },
    {
      "cell_type": "code",
      "source": [
        "#8\n",
        "arr = np.arange(1,9)\n",
        "arr = arr.reshape(2,4)\n",
        "print(arr)\n",
        "print(arr[1,2])"
      ],
      "metadata": {
        "colab": {
          "base_uri": "https://localhost:8080/"
        },
        "id": "MYBKs_3LJofB",
        "outputId": "5f04649f-fb34-4bd5-be5a-65e31993157f"
      },
      "execution_count": null,
      "outputs": [
        {
          "output_type": "stream",
          "name": "stdout",
          "text": [
            "[[1 2 3 4]\n",
            " [5 6 7 8]]\n",
            "7\n"
          ]
        }
      ]
    },
    {
      "cell_type": "code",
      "source": [
        "#9\n",
        "arr = np.array([[1,2],[3,4],[5,6]])\n",
        "print(arr.shape)"
      ],
      "metadata": {
        "colab": {
          "base_uri": "https://localhost:8080/"
        },
        "id": "t9LH_rJqJ1tk",
        "outputId": "5662e867-ad53-470d-f2ac-e29ffcb7709c"
      },
      "execution_count": null,
      "outputs": [
        {
          "output_type": "stream",
          "name": "stdout",
          "text": [
            "(3, 2)\n"
          ]
        }
      ]
    },
    {
      "cell_type": "code",
      "source": [
        "#10\n",
        "arr = np.eye(4,4)\n",
        "print(arr)"
      ],
      "metadata": {
        "colab": {
          "base_uri": "https://localhost:8080/"
        },
        "id": "SNaGSdE7J9uO",
        "outputId": "bdd2a039-8121-4444-834f-92ac7987cbc9"
      },
      "execution_count": null,
      "outputs": [
        {
          "output_type": "stream",
          "name": "stdout",
          "text": [
            "[[1. 0. 0. 0.]\n",
            " [0. 1. 0. 0.]\n",
            " [0. 0. 1. 0.]\n",
            " [0. 0. 0. 1.]]\n"
          ]
        }
      ]
    },
    {
      "cell_type": "code",
      "source": [
        "#11\n",
        "arr = np.eye(3,3)\n",
        "print(arr)"
      ],
      "metadata": {
        "colab": {
          "base_uri": "https://localhost:8080/"
        },
        "id": "Lg7eIFVPKH39",
        "outputId": "bbfe0413-8903-46aa-e064-3a323ab09e29"
      },
      "execution_count": null,
      "outputs": [
        {
          "output_type": "stream",
          "name": "stdout",
          "text": [
            "[[1. 0. 0.]\n",
            " [0. 1. 0.]\n",
            " [0. 0. 1.]]\n"
          ]
        }
      ]
    },
    {
      "cell_type": "code",
      "source": [
        "#11\n",
        "import numpy as np\n",
        "arr = np.zeros((4, 4))\n",
        "print(arr)\n",
        "print()\n",
        "np.fill_diagonal(arr, 1)\n",
        "print(arr)\n"
      ],
      "metadata": {
        "colab": {
          "base_uri": "https://localhost:8080/"
        },
        "id": "h-8Nk_PDJTrP",
        "outputId": "c51e0a5e-8e19-4497-adad-10b58e38a1a3"
      },
      "execution_count": null,
      "outputs": [
        {
          "output_type": "stream",
          "name": "stdout",
          "text": [
            "[[0. 0. 0. 0.]\n",
            " [0. 0. 0. 0.]\n",
            " [0. 0. 0. 0.]\n",
            " [0. 0. 0. 0.]]\n",
            "\n",
            "[[1. 0. 0. 0.]\n",
            " [0. 1. 0. 0.]\n",
            " [0. 0. 1. 0.]\n",
            " [0. 0. 0. 1.]]\n"
          ]
        }
      ]
    },
    {
      "cell_type": "code",
      "source": [
        "#12\n",
        "arr = np.zeros((2,3,4))\n",
        "print(arr)"
      ],
      "metadata": {
        "colab": {
          "base_uri": "https://localhost:8080/"
        },
        "id": "oK3gcXM8KNlQ",
        "outputId": "91fb4e9e-3e93-4ed6-cda9-8912e5841de2"
      },
      "execution_count": null,
      "outputs": [
        {
          "output_type": "stream",
          "name": "stdout",
          "text": [
            "[[[0. 0. 0. 0.]\n",
            "  [0. 0. 0. 0.]\n",
            "  [0. 0. 0. 0.]]\n",
            "\n",
            " [[0. 0. 0. 0.]\n",
            "  [0. 0. 0. 0.]\n",
            "  [0. 0. 0. 0.]]]\n"
          ]
        }
      ]
    },
    {
      "cell_type": "code",
      "source": [
        "#13\n",
        "arr = np.ones((2,2,2))\n",
        "print(arr)"
      ],
      "metadata": {
        "colab": {
          "base_uri": "https://localhost:8080/"
        },
        "id": "IcKjY3cuKWio",
        "outputId": "a6fb9773-5bc5-4460-a851-6291a03d1fe5"
      },
      "execution_count": null,
      "outputs": [
        {
          "output_type": "stream",
          "name": "stdout",
          "text": [
            "[[[1. 1.]\n",
            "  [1. 1.]]\n",
            "\n",
            " [[1. 1.]\n",
            "  [1. 1.]]]\n"
          ]
        }
      ]
    },
    {
      "cell_type": "code",
      "source": [
        "#14\n",
        "# 3d array having 3 dimensions\n",
        "arr = np.random.rand(2,3,3)\n",
        "print(arr.ndim)\n"
      ],
      "metadata": {
        "colab": {
          "base_uri": "https://localhost:8080/"
        },
        "id": "X0fRwFNxKzVA",
        "outputId": "ff957c2b-a828-4771-c055-c7ceb0c88bf4"
      },
      "execution_count": null,
      "outputs": [
        {
          "output_type": "stream",
          "name": "stdout",
          "text": [
            "3\n"
          ]
        }
      ]
    },
    {
      "cell_type": "code",
      "source": [
        "#15\n",
        "arr = np.random.rand(2,3,3)\n",
        "print(arr)"
      ],
      "metadata": {
        "colab": {
          "base_uri": "https://localhost:8080/"
        },
        "id": "e0JEqwvQKiye",
        "outputId": "afcba175-5304-4a5f-e5bc-c60c249ef74a"
      },
      "execution_count": null,
      "outputs": [
        {
          "output_type": "stream",
          "name": "stdout",
          "text": [
            "[[[0.09502405 0.50501275 0.98358137]\n",
            "  [0.87589208 0.04452632 0.69777196]\n",
            "  [0.61325464 0.26359234 0.06154645]]\n",
            "\n",
            " [[0.9414336  0.32768407 0.62486561]\n",
            "  [0.03121848 0.12718223 0.22508011]\n",
            "  [0.45445655 0.33276268 0.02979135]]]\n"
          ]
        }
      ]
    },
    {
      "cell_type": "code",
      "source": [
        "arr = np.random.randint(1,21,(4,5),dtype=int)\n",
        "print(arr)"
      ],
      "metadata": {
        "colab": {
          "base_uri": "https://localhost:8080/"
        },
        "id": "2a-nchzWK81W",
        "outputId": "e6e159b2-789f-4bc7-bb43-3d24a1d48c6a"
      },
      "execution_count": null,
      "outputs": [
        {
          "output_type": "stream",
          "name": "stdout",
          "text": [
            "[[13  6  6  7  9]\n",
            " [11 11  6  7 13]\n",
            " [19  1 17 20 11]\n",
            " [ 2  6 12  4 15]]\n"
          ]
        }
      ]
    },
    {
      "cell_type": "code",
      "source": [
        "arr = np.random.randint(1,21,size=(20),dtype=int)\n",
        "arr = arr.reshape(4,5)\n",
        "print(arr)"
      ],
      "metadata": {
        "colab": {
          "base_uri": "https://localhost:8080/"
        },
        "id": "JlITYeErJ-6c",
        "outputId": "dfa2fe75-6e86-4a97-a42c-e17217848b6c"
      },
      "execution_count": null,
      "outputs": [
        {
          "output_type": "stream",
          "name": "stdout",
          "text": [
            "[[ 8 10 11  9 10]\n",
            " [20  8  2 11  7]\n",
            " [13 11 10 18  9]\n",
            " [10  6  9  1  5]]\n"
          ]
        }
      ]
    },
    {
      "cell_type": "code",
      "source": [
        "arr = np.random.randn(4,5)\n",
        "print(arr)"
      ],
      "metadata": {
        "colab": {
          "base_uri": "https://localhost:8080/"
        },
        "id": "_SN4fHOnLxGe",
        "outputId": "3c82b349-e108-4ff8-c99e-20c9e698f150"
      },
      "execution_count": null,
      "outputs": [
        {
          "output_type": "stream",
          "name": "stdout",
          "text": [
            "[[ 0.11558975 -0.6461415  -0.15146911  0.26484791 -1.06460285]\n",
            " [ 1.15846814  0.51075296  1.49992743  0.45711351 -1.26604357]\n",
            " [-0.61212483 -0.25293196 -1.53306285  0.27983224  1.30283782]\n",
            " [-0.63971166  0.31334902 -0.46589261 -0.33553253 -1.19735219]]\n"
          ]
        }
      ]
    },
    {
      "cell_type": "code",
      "source": [
        "import numpy as np\n",
        "arr = np.arange(1,27,dtype=int)\n",
        "arr = arr.reshape(1,2,13)\n",
        "print(arr)\n",
        "print()\n",
        "# arr = arr.reshape(1,13,2)\n",
        "# print(arr)"
      ],
      "metadata": {
        "id": "id7moJUSL-Fa",
        "colab": {
          "base_uri": "https://localhost:8080/"
        },
        "outputId": "8e08ee18-ece7-47e5-9ad8-4f4c8d69c7b6"
      },
      "execution_count": null,
      "outputs": [
        {
          "output_type": "stream",
          "name": "stdout",
          "text": [
            "[[[ 1  2  3  4  5  6  7  8  9 10 11 12 13]\n",
            "  [14 15 16 17 18 19 20 21 22 23 24 25 26]]]\n",
            "\n"
          ]
        }
      ]
    },
    {
      "cell_type": "code",
      "source": [
        "arr = np.arange(1,39)\n",
        "arr = arr.reshape(1,2,19)\n",
        "# print(arr)\n",
        "\n",
        "# arr = arr.reshape(2,19,1)\n",
        "# print(arr)\n",
        "\n",
        "# arr = arr.reshape(1,38,1)\n",
        "# print(arr)\n",
        "\n",
        "# arr = arr.reshape(1,1,38)\n",
        "# print(arr)\n",
        "\n",
        "arr = np.ravel(arr)\n",
        "print(arr)"
      ],
      "metadata": {
        "colab": {
          "base_uri": "https://localhost:8080/"
        },
        "id": "Iy9xSDuEONSe",
        "outputId": "95ec11d9-0ffc-4db9-bff0-6b230a5392f9"
      },
      "execution_count": null,
      "outputs": [
        {
          "output_type": "stream",
          "name": "stdout",
          "text": [
            "[ 1  2  3  4  5  6  7  8  9 10 11 12 13 14 15 16 17 18 19 20 21 22 23 24\n",
            " 25 26 27 28 29 30 31 32 33 34 35 36 37 38]\n"
          ]
        }
      ]
    },
    {
      "cell_type": "code",
      "source": [
        "arr = np.random.rand(2,3,4)\n",
        "print(arr)"
      ],
      "metadata": {
        "colab": {
          "base_uri": "https://localhost:8080/"
        },
        "id": "CgSU1EyVQir8",
        "outputId": "2996f9ae-ddfe-48ba-844b-f8e18151338c"
      },
      "execution_count": null,
      "outputs": [
        {
          "output_type": "stream",
          "name": "stdout",
          "text": [
            "[[[0.22840535 0.61550644 0.20574953 0.36569382]\n",
            "  [0.22495417 0.65100101 0.82163926 0.84783991]\n",
            "  [0.49161062 0.20417863 0.5170372  0.2309059 ]]\n",
            "\n",
            " [[0.73547961 0.49849009 0.64228993 0.67407941]\n",
            "  [0.18440051 0.04270051 0.4963048  0.57120583]\n",
            "  [0.58770611 0.4330088  0.93856313 0.63732269]]]\n"
          ]
        }
      ]
    },
    {
      "cell_type": "code",
      "source": [
        "arr = np.random.randn(2,3,4)\n",
        "print(arr)"
      ],
      "metadata": {
        "colab": {
          "base_uri": "https://localhost:8080/"
        },
        "id": "GQevzTGGSTYC",
        "outputId": "26d803a0-d7b2-49b3-9e83-ad9f19f285df"
      },
      "execution_count": null,
      "outputs": [
        {
          "output_type": "stream",
          "name": "stdout",
          "text": [
            "[[[ 0.22749809 -1.07553706  1.00915769 -0.65581436]\n",
            "  [-0.59815292  0.23019056 -1.33808314 -0.68249104]\n",
            "  [-0.44931812 -0.95194115 -0.28921209 -0.18099742]]\n",
            "\n",
            " [[-1.08617918  1.08920688 -0.51165615  0.51187882]\n",
            "  [-0.6227919   0.22044185  0.55701901  1.74519414]\n",
            "  [ 1.54768096 -1.99380569  0.4825744  -0.79823891]]]\n"
          ]
        }
      ]
    },
    {
      "cell_type": "code",
      "source": [
        "arr = np.random.randint(1,11)\n",
        "print(arr)"
      ],
      "metadata": {
        "colab": {
          "base_uri": "https://localhost:8080/"
        },
        "id": "1HCsHJocSdvM",
        "outputId": "13df68a7-1223-402a-f703-524ed29704d5"
      },
      "execution_count": null,
      "outputs": [
        {
          "output_type": "stream",
          "name": "stdout",
          "text": [
            "8\n"
          ]
        }
      ]
    },
    {
      "cell_type": "code",
      "source": [
        "arr = np.zeros((3,3))\n",
        "print(arr)\n",
        "np.fill_diagonal(arr,1)\n",
        "print(arr)"
      ],
      "metadata": {
        "colab": {
          "base_uri": "https://localhost:8080/"
        },
        "id": "zJcp_I4fVJxv",
        "outputId": "021bd0a3-4c43-455f-9739-c0468a5894f9"
      },
      "execution_count": null,
      "outputs": [
        {
          "output_type": "stream",
          "name": "stdout",
          "text": [
            "[[0. 0. 0.]\n",
            " [0. 0. 0.]\n",
            " [0. 0. 0.]]\n",
            "[[1. 0. 0.]\n",
            " [0. 1. 0.]\n",
            " [0. 0. 1.]]\n"
          ]
        }
      ]
    },
    {
      "cell_type": "code",
      "source": [
        "#accessing and modifying the array\n",
        "arr = np.eye(5,5,dtype=int)\n",
        "print(arr)\n",
        "print()\n",
        "print(\"Middle One : \",arr[2,2])\n",
        "print()\n",
        "arr[2,2] = 100\n",
        "print(arr)\n",
        "print()\n",
        "print(\"Middle One : \",arr[2,2])"
      ],
      "metadata": {
        "colab": {
          "base_uri": "https://localhost:8080/"
        },
        "id": "ol231EGRTkKP",
        "outputId": "590832c4-a182-4865-af2f-969aab96e02b"
      },
      "execution_count": null,
      "outputs": [
        {
          "output_type": "stream",
          "name": "stdout",
          "text": [
            "[[1 0 0 0 0]\n",
            " [0 1 0 0 0]\n",
            " [0 0 1 0 0]\n",
            " [0 0 0 1 0]\n",
            " [0 0 0 0 1]]\n",
            "\n",
            "Middle One :  1\n",
            "\n",
            "[[  1   0   0   0   0]\n",
            " [  0   1   0   0   0]\n",
            " [  0   0 100   0   0]\n",
            " [  0   0   0   1   0]\n",
            " [  0   0   0   0   1]]\n",
            "\n",
            "Middle One :  100\n"
          ]
        }
      ]
    },
    {
      "cell_type": "code",
      "source": [
        "arr = np.arange(1,21)\n",
        "arr = arr.reshape(4,5)\n",
        "print(arr)\n",
        "print()\n",
        "print(\"Middle One : \",arr[2,2])\n",
        "print()\n",
        "arr[2,2] = 130\n",
        "print(arr)\n",
        "print()\n",
        "print(\"Middle One : \",arr[2,2])"
      ],
      "metadata": {
        "colab": {
          "base_uri": "https://localhost:8080/"
        },
        "id": "sYq7BvaNVBxg",
        "outputId": "21a83a3c-6004-463d-fbfc-afe8afac2eda"
      },
      "execution_count": null,
      "outputs": [
        {
          "output_type": "stream",
          "name": "stdout",
          "text": [
            "[[ 1  2  3  4  5]\n",
            " [ 6  7  8  9 10]\n",
            " [11 12 13 14 15]\n",
            " [16 17 18 19 20]]\n",
            "\n",
            "Middle One :  13\n",
            "\n",
            "[[  1   2   3   4   5]\n",
            " [  6   7   8   9  10]\n",
            " [ 11  12 130  14  15]\n",
            " [ 16  17  18  19  20]]\n",
            "\n",
            "Middle One :  130\n"
          ]
        }
      ]
    },
    {
      "cell_type": "code",
      "source": [
        "arr = np.arange(1,17)\n",
        "arr = arr.reshape(2,2,4)\n",
        "print(arr)\n",
        "print()\n",
        "print(\"Middle One : \",arr[1,0,2])\n",
        "arr[1,0,2]=110\n",
        "print(arr)\n",
        "print()\n",
        "print(\"Middle One : \",arr[1,0,2])"
      ],
      "metadata": {
        "colab": {
          "base_uri": "https://localhost:8080/"
        },
        "id": "tTxPHlsWW5dd",
        "outputId": "ec8df024-8d4a-40d4-bf7f-9598c53e47b7"
      },
      "execution_count": null,
      "outputs": [
        {
          "output_type": "stream",
          "name": "stdout",
          "text": [
            "[[[ 1  2  3  4]\n",
            "  [ 5  6  7  8]]\n",
            "\n",
            " [[ 9 10 11 12]\n",
            "  [13 14 15 16]]]\n",
            "\n",
            "Middle One :  11\n",
            "[[[  1   2   3   4]\n",
            "  [  5   6   7   8]]\n",
            "\n",
            " [[  9  10 110  12]\n",
            "  [ 13  14  15  16]]]\n",
            "\n",
            "Middle One :  110\n"
          ]
        }
      ]
    },
    {
      "cell_type": "markdown",
      "source": [
        "#Copy -->Shallow Copy and DeepCopy"
      ],
      "metadata": {
        "id": "VfImnq9_ZS-M"
      }
    },
    {
      "cell_type": "code",
      "source": [
        "arr =np.array([[1,2,3,4],\n",
        "      [5,6,7,8]])\n",
        "\n",
        "arr1 = arr.view()\n",
        "arr[1,1]=60\n",
        "print(arr)\n",
        "print()\n",
        "print(arr1)"
      ],
      "metadata": {
        "colab": {
          "base_uri": "https://localhost:8080/"
        },
        "id": "Rw8g88rmZKL1",
        "outputId": "9ec02ea5-525d-4757-c8f7-ac193beec1d0"
      },
      "execution_count": null,
      "outputs": [
        {
          "output_type": "stream",
          "name": "stdout",
          "text": [
            "[[ 1  2  3  4]\n",
            " [ 5 60  7  8]]\n",
            "\n",
            "[[ 1  2  3  4]\n",
            " [ 5 60  7  8]]\n"
          ]
        }
      ]
    },
    {
      "cell_type": "code",
      "source": [
        "arr =np.array([[1,2,3,4],\n",
        "      [5,6,7,8]])\n",
        "\n",
        "arr1 = arr.copy()\n",
        "arr[1,1]=60\n",
        "print(arr)\n",
        "print()\n",
        "print(arr1)"
      ],
      "metadata": {
        "colab": {
          "base_uri": "https://localhost:8080/"
        },
        "id": "1srTyEi7defC",
        "outputId": "9b84e7a0-e2da-46c5-cb32-0b8217ab8664"
      },
      "execution_count": null,
      "outputs": [
        {
          "output_type": "stream",
          "name": "stdout",
          "text": [
            "[[ 1  2  3  4]\n",
            " [ 5 60  7  8]]\n",
            "\n",
            "[[1 2 3 4]\n",
            " [5 6 7 8]]\n"
          ]
        }
      ]
    },
    {
      "cell_type": "markdown",
      "source": [
        "#SLICING"
      ],
      "metadata": {
        "id": "dPado-b1fmrn"
      }
    },
    {
      "cell_type": "markdown",
      "source": [
        "1D --> ARRAY"
      ],
      "metadata": {
        "id": "g2bwuE1WgILp"
      }
    },
    {
      "cell_type": "code",
      "source": [
        "arr = np.arange(1,8)\n",
        "print(arr[2:6:1])"
      ],
      "metadata": {
        "colab": {
          "base_uri": "https://localhost:8080/"
        },
        "id": "z3MD63RYfr6A",
        "outputId": "cd9e9c40-6d53-40fe-d63e-3ac2651bc968"
      },
      "execution_count": null,
      "outputs": [
        {
          "output_type": "stream",
          "name": "stdout",
          "text": [
            "[3 4 5 6]\n"
          ]
        }
      ]
    },
    {
      "cell_type": "code",
      "source": [
        "arr[2:4]"
      ],
      "metadata": {
        "colab": {
          "base_uri": "https://localhost:8080/"
        },
        "id": "_kBD6eVxfx0j",
        "outputId": "97ca15a8-d6d8-4d74-8dfe-3ec4e698868f"
      },
      "execution_count": null,
      "outputs": [
        {
          "output_type": "execute_result",
          "data": {
            "text/plain": [
              "array([3, 4])"
            ]
          },
          "metadata": {},
          "execution_count": 66
        }
      ]
    },
    {
      "cell_type": "markdown",
      "source": [
        "2D --> ARRAY"
      ],
      "metadata": {
        "id": "XOfPdVgXgOtJ"
      }
    },
    {
      "cell_type": "code",
      "source": [
        "arr = np.arange(1,11)\n",
        "arr = arr.reshape(2,5)\n",
        "print(arr)\n",
        "print()\n",
        "print(arr[::,3::])"
      ],
      "metadata": {
        "colab": {
          "base_uri": "https://localhost:8080/"
        },
        "id": "y0UrKfPLf-f-",
        "outputId": "c2c77d62-dd04-475b-cc6b-4662ed44f6ac"
      },
      "execution_count": null,
      "outputs": [
        {
          "output_type": "stream",
          "name": "stdout",
          "text": [
            "[[ 1  2  3  4  5]\n",
            " [ 6  7  8  9 10]]\n",
            "\n",
            "[[ 4  5]\n",
            " [ 9 10]]\n"
          ]
        }
      ]
    },
    {
      "cell_type": "code",
      "source": [
        "arr = np.arange(1,21)\n",
        "arr = arr.reshape(4,5)\n",
        "print(arr)\n",
        "print()\n",
        "print(arr[::,3::])"
      ],
      "metadata": {
        "colab": {
          "base_uri": "https://localhost:8080/"
        },
        "id": "NnnwuKLMh3I1",
        "outputId": "1d3574cf-5c9a-4553-ac41-e9d1720f0f61"
      },
      "execution_count": null,
      "outputs": [
        {
          "output_type": "stream",
          "name": "stdout",
          "text": [
            "[[ 1  2  3  4  5]\n",
            " [ 6  7  8  9 10]\n",
            " [11 12 13 14 15]\n",
            " [16 17 18 19 20]]\n",
            "\n",
            "[[ 4  5]\n",
            " [ 9 10]\n",
            " [14 15]\n",
            " [19 20]]\n"
          ]
        }
      ]
    },
    {
      "cell_type": "code",
      "source": [
        "arr = np.arange(1,31)\n",
        "arr = arr.reshape(5,6)\n",
        "# print(arr[::,3::])\n",
        "print(arr)\n",
        "print()\n",
        "print(arr[2:4,2:5])"
      ],
      "metadata": {
        "colab": {
          "base_uri": "https://localhost:8080/"
        },
        "id": "S4OmQ-Othu81",
        "outputId": "fb065a03-0a65-40b3-ff51-d041b8722f17"
      },
      "execution_count": null,
      "outputs": [
        {
          "output_type": "stream",
          "name": "stdout",
          "text": [
            "[[ 1  2  3  4  5  6]\n",
            " [ 7  8  9 10 11 12]\n",
            " [13 14 15 16 17 18]\n",
            " [19 20 21 22 23 24]\n",
            " [25 26 27 28 29 30]]\n",
            "\n",
            "[[15 16 17]\n",
            " [21 22 23]]\n"
          ]
        }
      ]
    },
    {
      "cell_type": "code",
      "source": [],
      "metadata": {
        "id": "XlfGTflGTQ3-"
      },
      "execution_count": null,
      "outputs": []
    },
    {
      "cell_type": "markdown",
      "source": [
        "3D --> ARRAY"
      ],
      "metadata": {
        "id": "G3MrmfNDTTDf"
      }
    },
    {
      "cell_type": "code",
      "source": [
        "import numpy as np\n",
        "arr = np.arange(1,21)\n",
        "arr = arr.reshape(2,2,5)\n",
        "print(arr)"
      ],
      "metadata": {
        "colab": {
          "base_uri": "https://localhost:8080/"
        },
        "id": "yjYDU4uCTVsf",
        "outputId": "dcac71d4-64e8-4338-a78b-c3c6d27fa41c"
      },
      "execution_count": 2,
      "outputs": [
        {
          "output_type": "stream",
          "name": "stdout",
          "text": [
            "[[[ 1  2  3  4  5]\n",
            "  [ 6  7  8  9 10]]\n",
            "\n",
            " [[11 12 13 14 15]\n",
            "  [16 17 18 19 20]]]\n"
          ]
        }
      ]
    },
    {
      "cell_type": "code",
      "source": [
        "#fetch the 14 element\n",
        "print(arr[1:2,0:1,3:4])"
      ],
      "metadata": {
        "colab": {
          "base_uri": "https://localhost:8080/"
        },
        "id": "MZIZVn9wTvTl",
        "outputId": "61933692-afec-4001-b0e1-eb39ac5b20d6"
      },
      "execution_count": 6,
      "outputs": [
        {
          "output_type": "stream",
          "name": "stdout",
          "text": [
            "[[[14]]]\n"
          ]
        }
      ]
    },
    {
      "cell_type": "code",
      "source": [
        "#fetch the 5,10\n",
        "print(arr[0:1,0:1,3:5])"
      ],
      "metadata": {
        "colab": {
          "base_uri": "https://localhost:8080/"
        },
        "id": "ns7IvPnzT3MG",
        "outputId": "638539f1-15e5-4e9f-9e14-ecb05b3a54f2"
      },
      "execution_count": 5,
      "outputs": [
        {
          "output_type": "stream",
          "name": "stdout",
          "text": [
            "[[[4 5]]]\n"
          ]
        }
      ]
    },
    {
      "cell_type": "code",
      "source": [
        "#fetch the 19\n",
        "print(arr[1:2,1:2,3:4])"
      ],
      "metadata": {
        "colab": {
          "base_uri": "https://localhost:8080/"
        },
        "id": "eUDcKhAqUKRs",
        "outputId": "3c26a8fc-d635-4538-9352-771cda6eb214"
      },
      "execution_count": 9,
      "outputs": [
        {
          "output_type": "stream",
          "name": "stdout",
          "text": [
            "[[[19]]]\n"
          ]
        }
      ]
    },
    {
      "cell_type": "code",
      "source": [
        "#fetch the 13,18\n",
        "print(arr[1:2,0:2,2:3])"
      ],
      "metadata": {
        "colab": {
          "base_uri": "https://localhost:8080/"
        },
        "id": "tuceyiO3Uk1W",
        "outputId": "fec208c9-0c00-46b8-fa3b-1008ea803e9e"
      },
      "execution_count": 11,
      "outputs": [
        {
          "output_type": "stream",
          "name": "stdout",
          "text": [
            "[[[13]\n",
            "  [18]]]\n"
          ]
        }
      ]
    }
  ]
}